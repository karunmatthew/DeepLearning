{
 "cells": [
  {
   "cell_type": "markdown",
   "metadata": {},
   "source": [
    "Training and evaluating an LSTM using reversed sequences"
   ]
  },
  {
   "cell_type": "code",
   "execution_count": 1,
   "metadata": {},
   "outputs": [
    {
     "name": "stderr",
     "output_type": "stream",
     "text": [
      "C:\\Users\\karun\\Anaconda3\\lib\\site-packages\\tensorflow\\python\\framework\\dtypes.py:516: FutureWarning: Passing (type, 1) or '1type' as a synonym of type is deprecated; in a future version of numpy, it will be understood as (type, (1,)) / '(1,)type'.\n",
      "  _np_qint8 = np.dtype([(\"qint8\", np.int8, 1)])\n",
      "C:\\Users\\karun\\Anaconda3\\lib\\site-packages\\tensorflow\\python\\framework\\dtypes.py:517: FutureWarning: Passing (type, 1) or '1type' as a synonym of type is deprecated; in a future version of numpy, it will be understood as (type, (1,)) / '(1,)type'.\n",
      "  _np_quint8 = np.dtype([(\"quint8\", np.uint8, 1)])\n",
      "C:\\Users\\karun\\Anaconda3\\lib\\site-packages\\tensorflow\\python\\framework\\dtypes.py:518: FutureWarning: Passing (type, 1) or '1type' as a synonym of type is deprecated; in a future version of numpy, it will be understood as (type, (1,)) / '(1,)type'.\n",
      "  _np_qint16 = np.dtype([(\"qint16\", np.int16, 1)])\n",
      "C:\\Users\\karun\\Anaconda3\\lib\\site-packages\\tensorflow\\python\\framework\\dtypes.py:519: FutureWarning: Passing (type, 1) or '1type' as a synonym of type is deprecated; in a future version of numpy, it will be understood as (type, (1,)) / '(1,)type'.\n",
      "  _np_quint16 = np.dtype([(\"quint16\", np.uint16, 1)])\n",
      "C:\\Users\\karun\\Anaconda3\\lib\\site-packages\\tensorflow\\python\\framework\\dtypes.py:520: FutureWarning: Passing (type, 1) or '1type' as a synonym of type is deprecated; in a future version of numpy, it will be understood as (type, (1,)) / '(1,)type'.\n",
      "  _np_qint32 = np.dtype([(\"qint32\", np.int32, 1)])\n",
      "C:\\Users\\karun\\Anaconda3\\lib\\site-packages\\tensorflow\\python\\framework\\dtypes.py:525: FutureWarning: Passing (type, 1) or '1type' as a synonym of type is deprecated; in a future version of numpy, it will be understood as (type, (1,)) / '(1,)type'.\n",
      "  np_resource = np.dtype([(\"resource\", np.ubyte, 1)])\n",
      "C:\\Users\\karun\\Anaconda3\\lib\\site-packages\\tensorboard\\compat\\tensorflow_stub\\dtypes.py:541: FutureWarning: Passing (type, 1) or '1type' as a synonym of type is deprecated; in a future version of numpy, it will be understood as (type, (1,)) / '(1,)type'.\n",
      "  _np_qint8 = np.dtype([(\"qint8\", np.int8, 1)])\n",
      "C:\\Users\\karun\\Anaconda3\\lib\\site-packages\\tensorboard\\compat\\tensorflow_stub\\dtypes.py:542: FutureWarning: Passing (type, 1) or '1type' as a synonym of type is deprecated; in a future version of numpy, it will be understood as (type, (1,)) / '(1,)type'.\n",
      "  _np_quint8 = np.dtype([(\"quint8\", np.uint8, 1)])\n",
      "C:\\Users\\karun\\Anaconda3\\lib\\site-packages\\tensorboard\\compat\\tensorflow_stub\\dtypes.py:543: FutureWarning: Passing (type, 1) or '1type' as a synonym of type is deprecated; in a future version of numpy, it will be understood as (type, (1,)) / '(1,)type'.\n",
      "  _np_qint16 = np.dtype([(\"qint16\", np.int16, 1)])\n",
      "C:\\Users\\karun\\Anaconda3\\lib\\site-packages\\tensorboard\\compat\\tensorflow_stub\\dtypes.py:544: FutureWarning: Passing (type, 1) or '1type' as a synonym of type is deprecated; in a future version of numpy, it will be understood as (type, (1,)) / '(1,)type'.\n",
      "  _np_quint16 = np.dtype([(\"quint16\", np.uint16, 1)])\n",
      "C:\\Users\\karun\\Anaconda3\\lib\\site-packages\\tensorboard\\compat\\tensorflow_stub\\dtypes.py:545: FutureWarning: Passing (type, 1) or '1type' as a synonym of type is deprecated; in a future version of numpy, it will be understood as (type, (1,)) / '(1,)type'.\n",
      "  _np_qint32 = np.dtype([(\"qint32\", np.int32, 1)])\n",
      "C:\\Users\\karun\\Anaconda3\\lib\\site-packages\\tensorboard\\compat\\tensorflow_stub\\dtypes.py:550: FutureWarning: Passing (type, 1) or '1type' as a synonym of type is deprecated; in a future version of numpy, it will be understood as (type, (1,)) / '(1,)type'.\n",
      "  np_resource = np.dtype([(\"resource\", np.ubyte, 1)])\n"
     ]
    },
    {
     "name": "stdout",
     "output_type": "stream",
     "text": [
      "WARNING:tensorflow:From C:\\Users\\karun\\Anaconda3\\lib\\site-packages\\tensorflow\\python\\keras\\initializers.py:119: calling RandomUniform.__init__ (from tensorflow.python.ops.init_ops) with dtype is deprecated and will be removed in a future version.\n",
      "Instructions for updating:\n",
      "Call initializer instance with the dtype argument instead of passing it to the constructor\n",
      "WARNING:tensorflow:From C:\\Users\\karun\\Anaconda3\\lib\\site-packages\\tensorflow\\python\\ops\\init_ops.py:1251: calling VarianceScaling.__init__ (from tensorflow.python.ops.init_ops) with dtype is deprecated and will be removed in a future version.\n",
      "Instructions for updating:\n",
      "Call initializer instance with the dtype argument instead of passing it to the constructor\n",
      "WARNING:tensorflow:From C:\\Users\\karun\\Anaconda3\\lib\\site-packages\\tensorflow\\python\\ops\\nn_impl.py:180: add_dispatch_support.<locals>.wrapper (from tensorflow.python.ops.array_ops) is deprecated and will be removed in a future version.\n",
      "Instructions for updating:\n",
      "Use tf.where in 2.0, which has the same broadcast rule as np.where\n",
      "Train on 20000 samples, validate on 5000 samples\n",
      "Epoch 1/10\n",
      "20000/20000 [==============================] - 107s 5ms/sample - loss: 0.4853 - acc: 0.7718 - val_loss: 1.1104 - val_acc: 0.5920\n",
      "Epoch 2/10\n",
      "20000/20000 [==============================] - 106s 5ms/sample - loss: 0.3237 - acc: 0.8740 - val_loss: 0.3477 - val_acc: 0.8646\n",
      "Epoch 3/10\n",
      "20000/20000 [==============================] - 106s 5ms/sample - loss: 0.2576 - acc: 0.9039 - val_loss: 0.3227 - val_acc: 0.8632\n",
      "Epoch 4/10\n",
      "20000/20000 [==============================] - 107s 5ms/sample - loss: 0.2245 - acc: 0.9200 - val_loss: 0.3822 - val_acc: 0.8330\n",
      "Epoch 5/10\n",
      "20000/20000 [==============================] - 106s 5ms/sample - loss: 0.2009 - acc: 0.9267 - val_loss: 0.3384 - val_acc: 0.8800\n",
      "Epoch 6/10\n",
      "20000/20000 [==============================] - 105s 5ms/sample - loss: 0.1758 - acc: 0.9387 - val_loss: 0.3748 - val_acc: 0.8746\n",
      "Epoch 7/10\n",
      "20000/20000 [==============================] - 106s 5ms/sample - loss: 0.1624 - acc: 0.9428 - val_loss: 0.3907 - val_acc: 0.8388\n",
      "Epoch 8/10\n",
      "20000/20000 [==============================] - 106s 5ms/sample - loss: 0.1472 - acc: 0.9495 - val_loss: 0.4178 - val_acc: 0.8478\n",
      "Epoch 9/10\n",
      "20000/20000 [==============================] - 106s 5ms/sample - loss: 0.1407 - acc: 0.9524 - val_loss: 0.4719 - val_acc: 0.8318\n",
      "Epoch 10/10\n",
      "20000/20000 [==============================] - 105s 5ms/sample - loss: 0.1288 - acc: 0.9579 - val_loss: 0.4219 - val_acc: 0.8666\n"
     ]
    }
   ],
   "source": [
    "from tensorflow.keras.datasets import imdb\n",
    "from tensorflow.keras.preprocessing import sequence\n",
    "from tensorflow.keras import layers\n",
    "from tensorflow.keras.models import Sequential\n",
    "\n",
    "# Number of words to consider as features\n",
    "max_features = 10000\n",
    "# Cut texts after this number of words (among top max_features most common words)\n",
    "maxlen = 500\n",
    "\n",
    "# Load data\n",
    "(x_train, y_train), (x_test, y_test) = imdb.load_data(num_words=max_features)\n",
    "\n",
    "# Reverse sequences\n",
    "x_train = [x[::-1] for x in x_train]\n",
    "x_test = [x[::-1] for x in x_test]\n",
    "\n",
    "# Pad sequences\n",
    "x_train = sequence.pad_sequences(x_train, maxlen=maxlen)\n",
    "x_test = sequence.pad_sequences(x_test, maxlen=maxlen)\n",
    "\n",
    "model = Sequential()\n",
    "model.add(layers.Embedding(max_features, 128))\n",
    "model.add(layers.LSTM(32))\n",
    "model.add(layers.Dense(1, activation='sigmoid'))\n",
    "\n",
    "model.compile(optimizer='rmsprop',\n",
    "              loss='binary_crossentropy',\n",
    "              metrics=['acc'])\n",
    "history = model.fit(x_train, y_train,\n",
    "                    epochs=10,\n",
    "                    batch_size=128,\n",
    "                    validation_split=0.2)"
   ]
  },
  {
   "cell_type": "markdown",
   "metadata": {},
   "source": [
    "Training and evaluating an LSTM using sequences in the chronological order / sequential order"
   ]
  },
  {
   "cell_type": "code",
   "execution_count": 2,
   "metadata": {
    "scrolled": true
   },
   "outputs": [
    {
     "name": "stdout",
     "output_type": "stream",
     "text": [
      "Train on 20000 samples, validate on 5000 samples\n",
      "Epoch 1/10\n",
      "20000/20000 [==============================] - 133s 7ms/sample - loss: 0.5117 - acc: 0.7530 - val_loss: 0.3776 - val_acc: 0.8470\n",
      "Epoch 2/10\n",
      "20000/20000 [==============================] - 141s 7ms/sample - loss: 0.3290 - acc: 0.8727 - val_loss: 0.3900 - val_acc: 0.8590\n",
      "Epoch 3/10\n",
      "20000/20000 [==============================] - 139s 7ms/sample - loss: 0.2654 - acc: 0.9020 - val_loss: 0.3346 - val_acc: 0.8612\n",
      "Epoch 4/10\n",
      "20000/20000 [==============================] - 134s 7ms/sample - loss: 0.2224 - acc: 0.9202 - val_loss: 0.3520 - val_acc: 0.8580\n",
      "Epoch 5/10\n",
      "20000/20000 [==============================] - 106s 5ms/sample - loss: 0.1954 - acc: 0.9315 - val_loss: 0.3584 - val_acc: 0.8580\n",
      "Epoch 6/10\n",
      "20000/20000 [==============================] - 107s 5ms/sample - loss: 0.1723 - acc: 0.9384 - val_loss: 0.4889 - val_acc: 0.8418\n",
      "Epoch 7/10\n",
      "20000/20000 [==============================] - 107s 5ms/sample - loss: 0.1599 - acc: 0.9444 - val_loss: 0.4519 - val_acc: 0.8226\n",
      "Epoch 8/10\n",
      "20000/20000 [==============================] - 107s 5ms/sample - loss: 0.1429 - acc: 0.9513 - val_loss: 0.4309 - val_acc: 0.8760\n",
      "Epoch 9/10\n",
      "20000/20000 [==============================] - 107s 5ms/sample - loss: 0.1368 - acc: 0.9524 - val_loss: 0.3927 - val_acc: 0.8654\n",
      "Epoch 10/10\n",
      "20000/20000 [==============================] - 107s 5ms/sample - loss: 0.1269 - acc: 0.9579 - val_loss: 0.4360 - val_acc: 0.8694\n"
     ]
    }
   ],
   "source": [
    "# Load data\n",
    "(x_train, y_train), (x_test, y_test) = imdb.load_data(num_words=max_features)\n",
    "\n",
    "# Reverse sequences\n",
    "x_train = [x[::-1] for x in x_train]\n",
    "x_test = [x[::-1] for x in x_test]\n",
    "\n",
    "# Pad sequences\n",
    "x_train = sequence.pad_sequences(x_train, maxlen=maxlen)\n",
    "x_test = sequence.pad_sequences(x_test, maxlen=maxlen)\n",
    "\n",
    "model = Sequential()\n",
    "model.add(layers.Embedding(max_features, 128))\n",
    "model.add(layers.LSTM(32))\n",
    "model.add(layers.Dense(1, activation='sigmoid'))\n",
    "\n",
    "model.compile(optimizer='rmsprop',\n",
    "              loss='binary_crossentropy',\n",
    "              metrics=['acc'])\n",
    "history = model.fit(x_train, y_train,\n",
    "                    epochs=10,\n",
    "                    batch_size=128,\n",
    "                    validation_split=0.2)"
   ]
  },
  {
   "cell_type": "code",
   "execution_count": 3,
   "metadata": {},
   "outputs": [],
   "source": [
    "from tensorflow.keras import backend as K\n",
    "K.clear_session()"
   ]
  },
  {
   "cell_type": "code",
   "execution_count": 4,
   "metadata": {},
   "outputs": [
    {
     "name": "stdout",
     "output_type": "stream",
     "text": [
      "WARNING:tensorflow:From C:\\Users\\karun\\Anaconda3\\lib\\site-packages\\tensorflow\\python\\ops\\init_ops.py:97: calling GlorotUniform.__init__ (from tensorflow.python.ops.init_ops) with dtype is deprecated and will be removed in a future version.\n",
      "Instructions for updating:\n",
      "Call initializer instance with the dtype argument instead of passing it to the constructor\n",
      "WARNING:tensorflow:From C:\\Users\\karun\\Anaconda3\\lib\\site-packages\\tensorflow\\python\\ops\\init_ops.py:97: calling Orthogonal.__init__ (from tensorflow.python.ops.init_ops) with dtype is deprecated and will be removed in a future version.\n",
      "Instructions for updating:\n",
      "Call initializer instance with the dtype argument instead of passing it to the constructor\n",
      "WARNING:tensorflow:From C:\\Users\\karun\\Anaconda3\\lib\\site-packages\\tensorflow\\python\\ops\\init_ops.py:97: calling Zeros.__init__ (from tensorflow.python.ops.init_ops) with dtype is deprecated and will be removed in a future version.\n",
      "Instructions for updating:\n",
      "Call initializer instance with the dtype argument instead of passing it to the constructor\n",
      "Train on 20000 samples, validate on 5000 samples\n",
      "Epoch 1/10\n",
      "20000/20000 [==============================] - 278s 14ms/sample - loss: 0.5740 - acc: 0.7017 - val_loss: 0.5516 - val_acc: 0.7152\n",
      "Epoch 2/10\n",
      "20000/20000 [==============================] - 307s 15ms/sample - loss: 0.3631 - acc: 0.8569 - val_loss: 0.3455 - val_acc: 0.8610\n",
      "Epoch 3/10\n",
      "20000/20000 [==============================] - 305s 15ms/sample - loss: 0.2765 - acc: 0.8942 - val_loss: 0.3875 - val_acc: 0.8234\n",
      "Epoch 4/10\n",
      "20000/20000 [==============================] - 308s 15ms/sample - loss: 0.2374 - acc: 0.9125 - val_loss: 0.3381 - val_acc: 0.8554\n",
      "Epoch 5/10\n",
      "20000/20000 [==============================] - 313s 16ms/sample - loss: 0.2088 - acc: 0.9261 - val_loss: 0.3169 - val_acc: 0.8898\n",
      "Epoch 6/10\n",
      "20000/20000 [==============================] - 310s 15ms/sample - loss: 0.1853 - acc: 0.9330 - val_loss: 0.4164 - val_acc: 0.8688\n",
      "Epoch 7/10\n",
      "20000/20000 [==============================] - 307s 15ms/sample - loss: 0.1695 - acc: 0.9397 - val_loss: 0.3584 - val_acc: 0.8850\n",
      "Epoch 8/10\n",
      "20000/20000 [==============================] - 309s 15ms/sample - loss: 0.1532 - acc: 0.9469 - val_loss: 0.3379 - val_acc: 0.8842\n",
      "Epoch 9/10\n",
      "20000/20000 [==============================] - 306s 15ms/sample - loss: 0.1342 - acc: 0.9556 - val_loss: 0.3742 - val_acc: 0.8846\n",
      "Epoch 10/10\n",
      "20000/20000 [==============================] - 312s 16ms/sample - loss: 0.1344 - acc: 0.9534 - val_loss: 0.3967 - val_acc: 0.8772\n"
     ]
    }
   ],
   "source": [
    "\n",
    "model = Sequential()\n",
    "model.add(layers.Embedding(max_features, 32))\n",
    "model.add(layers.Bidirectional(layers.LSTM(32)))\n",
    "model.add(layers.Dense(1, activation='sigmoid'))\n",
    "\n",
    "model.compile(optimizer='rmsprop', loss='binary_crossentropy', metrics=['acc'])\n",
    "history = model.fit(x_train, y_train, epochs=10, batch_size=128, validation_split=0.2)"
   ]
  },
  {
   "cell_type": "code",
   "execution_count": null,
   "metadata": {},
   "outputs": [],
   "source": []
  }
 ],
 "metadata": {
  "kernelspec": {
   "display_name": "Python 3",
   "language": "python",
   "name": "python3"
  },
  "language_info": {
   "codemirror_mode": {
    "name": "ipython",
    "version": 3
   },
   "file_extension": ".py",
   "mimetype": "text/x-python",
   "name": "python",
   "nbconvert_exporter": "python",
   "pygments_lexer": "ipython3",
   "version": "3.6.10"
  }
 },
 "nbformat": 4,
 "nbformat_minor": 4
}
