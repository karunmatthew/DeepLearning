{
 "cells": [
  {
   "cell_type": "code",
   "execution_count": 93,
   "metadata": {},
   "outputs": [],
   "source": [
    "from keras.datasets import imdb\n",
    "from keras import preprocessing\n",
    "\n",
    "# Number of words to consider as features\n",
    "max_features = 10000\n",
    "# Cuts off the text after this number of words (among the max_features most common words)\n",
    "maxlen = 70\n",
    "\n",
    "# Loads the data as lists of integers\n",
    "(x_train, y_train), (x_test, y_test) = imdb.load_data(num_words=max_features)\n",
    "\n",
    "\n",
    "x_train = preprocessing.sequence.pad_sequences(x_train, maxlen=maxlen)\n",
    "x_test = preprocessing.sequence.pad_sequences(x_test, maxlen=maxlen)"
   ]
  },
  {
   "cell_type": "code",
   "execution_count": 110,
   "metadata": {},
   "outputs": [
    {
     "name": "stdout",
     "output_type": "stream",
     "text": [
      "Model: \"sequential_39\"\n",
      "_________________________________________________________________\n",
      "Layer (type)                 Output Shape              Param #   \n",
      "=================================================================\n",
      "embedding_38 (Embedding)     (None, 70, 8)             80000     \n",
      "_________________________________________________________________\n",
      "flatten_38 (Flatten)         (None, 560)               0         \n",
      "_________________________________________________________________\n",
      "dense_70 (Dense)             (None, 4)                 2244      \n",
      "_________________________________________________________________\n",
      "dropout_31 (Dropout)         (None, 4)                 0         \n",
      "_________________________________________________________________\n",
      "dense_71 (Dense)             (None, 1)                 5         \n",
      "=================================================================\n",
      "Total params: 82,249\n",
      "Trainable params: 82,249\n",
      "Non-trainable params: 0\n",
      "_________________________________________________________________\n",
      "Train on 20000 samples, validate on 5000 samples\n",
      "Epoch 1/10\n",
      "20000/20000 [==============================] - 2s 99us/step - loss: 0.6750 - acc: 0.5757 - val_loss: 0.5665 - val_acc: 0.7728\n",
      "Epoch 2/10\n",
      "20000/20000 [==============================] - 1s 75us/step - loss: 0.5032 - acc: 0.7572 - val_loss: 0.4274 - val_acc: 0.8192\n",
      "Epoch 3/10\n",
      "20000/20000 [==============================] - 1s 74us/step - loss: 0.4174 - acc: 0.8076 - val_loss: 0.3855 - val_acc: 0.8296\n",
      "Epoch 4/10\n",
      "20000/20000 [==============================] - ETA: 0s - loss: 0.3782 - acc: 0.826 - 2s 76us/step - loss: 0.3789 - acc: 0.8259 - val_loss: 0.3686 - val_acc: 0.8346\n",
      "Epoch 5/10\n",
      "20000/20000 [==============================] - 2s 76us/step - loss: 0.3534 - acc: 0.8368 - val_loss: 0.3614 - val_acc: 0.8378\n",
      "Epoch 6/10\n",
      "20000/20000 [==============================] - 2s 79us/step - loss: 0.3354 - acc: 0.8438 - val_loss: 0.3599 - val_acc: 0.8438\n",
      "Epoch 7/10\n",
      "20000/20000 [==============================] - 1s 75us/step - loss: 0.3157 - acc: 0.8501 - val_loss: 0.3642 - val_acc: 0.8420\n",
      "Epoch 8/10\n",
      "20000/20000 [==============================] - 1s 72us/step - loss: 0.3066 - acc: 0.8550 - val_loss: 0.3700 - val_acc: 0.8390\n",
      "Epoch 9/10\n",
      "20000/20000 [==============================] - 2s 76us/step - loss: 0.2932 - acc: 0.8605 - val_loss: 0.3741 - val_acc: 0.8388\n",
      "Epoch 10/10\n",
      "20000/20000 [==============================] - 1s 74us/step - loss: 0.2825 - acc: 0.8637 - val_loss: 0.3811 - val_acc: 0.8410\n"
     ]
    }
   ],
   "source": [
    "from keras.models import Sequential\n",
    "from keras.layers import Flatten, Dense\n",
    "from keras.layers import Embedding\n",
    "from keras.layers import Dropout\n",
    "from keras.optimizers import RMSprop\n",
    "\n",
    "model = Sequential()\n",
    "model.add(Embedding(10000, 8, input_length=maxlen))\n",
    "model.add(Flatten())\n",
    "model.add(Dense(4, activation='sigmoid'))\n",
    "model.add(Dropout(0.3))\n",
    "model.add(Dense(1, activation='sigmoid'))\n",
    "model.compile(optimizer=RMSprop(learning_rate=0.001), loss='binary_crossentropy', metrics=['acc'])\n",
    "model.summary()\n",
    "history = model.fit(x_train, y_train, epochs=10, batch_size=32, validation_split=0.2)"
   ]
  },
  {
   "cell_type": "code",
   "execution_count": 107,
   "metadata": {},
   "outputs": [
    {
     "name": "stdout",
     "output_type": "stream",
     "text": [
      "25000/25000 [==============================] - 1s 23us/step\n"
     ]
    }
   ],
   "source": [
    "results = model.evaluate(x_test, y_test)"
   ]
  },
  {
   "cell_type": "code",
   "execution_count": 108,
   "metadata": {},
   "outputs": [
    {
     "data": {
      "text/plain": [
       "[0.39780453099250795, 0.8325999975204468]"
      ]
     },
     "execution_count": 108,
     "metadata": {},
     "output_type": "execute_result"
    }
   ],
   "source": [
    "results"
   ]
  },
  {
   "cell_type": "code",
   "execution_count": null,
   "metadata": {},
   "outputs": [],
   "source": []
  }
 ],
 "metadata": {
  "kernelspec": {
   "display_name": "Python 3",
   "language": "python",
   "name": "python3"
  },
  "language_info": {
   "codemirror_mode": {
    "name": "ipython",
    "version": 3
   },
   "file_extension": ".py",
   "mimetype": "text/x-python",
   "name": "python",
   "nbconvert_exporter": "python",
   "pygments_lexer": "ipython3",
   "version": "3.6.10"
  }
 },
 "nbformat": 4,
 "nbformat_minor": 4
}
