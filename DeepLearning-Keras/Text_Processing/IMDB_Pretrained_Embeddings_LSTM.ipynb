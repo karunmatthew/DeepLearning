{
 "cells": [
  {
   "cell_type": "code",
   "execution_count": 2,
   "metadata": {},
   "outputs": [],
   "source": [
    "import os\n",
    "\n",
    "imdb_dir = 'C:\\\\Users\\\\karun\\\\Downloads\\\\aclImdb'\n",
    "train_dir = os.path.join(imdb_dir, 'train')\n",
    "labels = []\n",
    "texts = []\n",
    "\n",
    "for label_type in ['neg', 'pos']:\n",
    "    dir_name = os.path.join(train_dir, label_type)\n",
    "    for fname in os.listdir(dir_name):\n",
    "        if fname[-4:] == '.txt':\n",
    "            f = open(os.path.join(dir_name, fname), encoding=\"utf8\")\n",
    "            texts.append(f.read())\n",
    "            f.close()\n",
    "            if label_type == 'neg':\n",
    "                labels.append(0)\n",
    "            else:\n",
    "                labels.append(1)"
   ]
  },
  {
   "cell_type": "code",
   "execution_count": 3,
   "metadata": {},
   "outputs": [],
   "source": [
    "from keras.preprocessing.text import Tokenizer\n",
    "from keras.preprocessing.sequence import pad_sequences\n",
    "import numpy as np\n",
    "\n",
    "# Cuts off reviews after 100 words\n",
    "maxlen = 150\n",
    "training_samples = 10000\n",
    "validation_samples = 2000\n",
    "test_samples = 4000\n",
    "\n",
    "# Considers only the top 10,000 words in the dataset\n",
    "max_words = 10000\n",
    "\n",
    "tokenizer = Tokenizer(num_words=max_words)\n",
    "tokenizer.fit_on_texts(texts)\n",
    "sequences = tokenizer.texts_to_sequences(texts)"
   ]
  },
  {
   "cell_type": "code",
   "execution_count": 4,
   "metadata": {},
   "outputs": [
    {
     "name": "stdout",
     "output_type": "stream",
     "text": [
      "Found 88582 unique tokens.\n",
      "Shape of data tensor: (25000, 150)\n",
      "Shape of label tensor: (25000,)\n"
     ]
    }
   ],
   "source": [
    "word_index = tokenizer.word_index\n",
    "print('Found %s unique tokens.' % len(word_index))\n",
    "\n",
    "data = pad_sequences(sequences, maxlen=maxlen)\n",
    "labels = np.asarray(labels)\n",
    "print('Shape of data tensor:', data.shape)\n",
    "print('Shape of label tensor:', labels.shape)\n",
    "\n",
    "\"\"\"\n",
    "Splits the data into a training set and a\n",
    "validation set, but first shuffles the data,\n",
    "because you’re starting with data in which\n",
    "samples are ordered (all negative first, then\n",
    "all positive)\n",
    "\"\"\"\n",
    "\n",
    "indices = np.arange(data.shape[0])\n"
   ]
  },
  {
   "cell_type": "code",
   "execution_count": 5,
   "metadata": {},
   "outputs": [
    {
     "data": {
      "text/plain": [
       "array([    0,     1,     2, ..., 24997, 24998, 24999])"
      ]
     },
     "execution_count": 5,
     "metadata": {},
     "output_type": "execute_result"
    }
   ],
   "source": [
    "indices"
   ]
  },
  {
   "cell_type": "code",
   "execution_count": 6,
   "metadata": {},
   "outputs": [
    {
     "data": {
      "text/plain": [
       "array([[   0,    0,    0, ...,   27,  107, 3348],\n",
       "       [ 114,  750,  469, ...,    1, 4517, 5457],\n",
       "       [   0,    0,    0, ..., 1906,   15,  620],\n",
       "       ...,\n",
       "       [  17,    6,    1, ..., 1110,  205, 9755],\n",
       "       [  15,  150,   72, ..., 3713,   14,   70],\n",
       "       [ 450,   36,  164, ...,   82,   93,   36]])"
      ]
     },
     "execution_count": 6,
     "metadata": {},
     "output_type": "execute_result"
    }
   ],
   "source": [
    "data"
   ]
  },
  {
   "cell_type": "code",
   "execution_count": 7,
   "metadata": {},
   "outputs": [
    {
     "data": {
      "text/plain": [
       "(25000, 150)"
      ]
     },
     "execution_count": 7,
     "metadata": {},
     "output_type": "execute_result"
    }
   ],
   "source": [
    "data.shape"
   ]
  },
  {
   "cell_type": "code",
   "execution_count": 8,
   "metadata": {},
   "outputs": [],
   "source": [
    "np.random.shuffle(indices)\n",
    "data = data[indices]\n",
    "labels = labels[indices]"
   ]
  },
  {
   "cell_type": "code",
   "execution_count": 9,
   "metadata": {},
   "outputs": [
    {
     "data": {
      "text/plain": [
       "array([ 7643,  1102, 10009, ..., 16038, 11569, 24684])"
      ]
     },
     "execution_count": 9,
     "metadata": {},
     "output_type": "execute_result"
    }
   ],
   "source": [
    "indices"
   ]
  },
  {
   "cell_type": "code",
   "execution_count": 10,
   "metadata": {},
   "outputs": [],
   "source": [
    "x_train = data[:training_samples]\n",
    "y_train = labels[:training_samples]\n",
    "x_val = data[training_samples: training_samples + validation_samples]\n",
    "y_val = labels[training_samples: training_samples + validation_samples]\n",
    "x_test = data[training_samples + validation_samples: training_samples + validation_samples + test_samples]\n",
    "y_test = labels[training_samples + validation_samples: training_samples + validation_samples + test_samples]"
   ]
  },
  {
   "cell_type": "markdown",
   "metadata": {},
   "source": [
    "<b>PREPROCESSING THE EMBEDDINGS</b>"
   ]
  },
  {
   "cell_type": "code",
   "execution_count": 11,
   "metadata": {},
   "outputs": [
    {
     "name": "stdout",
     "output_type": "stream",
     "text": [
      "Found 400000 word vectors.\n"
     ]
    }
   ],
   "source": [
    "glove_dir = 'C:\\\\Users\\\\karun\\\\Downloads\\\\glove.6B'\n",
    "embeddings_index = {}\n",
    "f = open(os.path.join(glove_dir, 'glove.6B.300d.txt'), encoding=\"utf8\")\n",
    "for line in f:\n",
    "    values = line.split()\n",
    "    word = values[0]         # in glove it is in format word followed by vector representation\n",
    "    coefs = np.asarray(values[1:], dtype='float32')\n",
    "    embeddings_index[word] = coefs\n",
    "f.close()\n",
    "print('Found %s word vectors.' % len(embeddings_index))"
   ]
  },
  {
   "cell_type": "code",
   "execution_count": 12,
   "metadata": {},
   "outputs": [],
   "source": [
    "embedding_dim = 300\n",
    "\n",
    "embedding_matrix = np.zeros((max_words, embedding_dim))\n",
    "for word, i in word_index.items():\n",
    "    if i < max_words:\n",
    "        embedding_vector = embeddings_index.get(word)\n",
    "        if embedding_vector is not None:\n",
    "            embedding_matrix[i] = embedding_vector"
   ]
  },
  {
   "cell_type": "code",
   "execution_count": 13,
   "metadata": {},
   "outputs": [
    {
     "name": "stdout",
     "output_type": "stream",
     "text": [
      "Model: \"sequential_1\"\n",
      "_________________________________________________________________\n",
      "Layer (type)                 Output Shape              Param #   \n",
      "=================================================================\n",
      "embedding_1 (Embedding)      (None, 150, 300)          3000000   \n",
      "_________________________________________________________________\n",
      "flatten_1 (Flatten)          (None, 45000)             0         \n",
      "_________________________________________________________________\n",
      "dense_1 (Dense)              (None, 64)                2880064   \n",
      "_________________________________________________________________\n",
      "dropout_1 (Dropout)          (None, 64)                0         \n",
      "_________________________________________________________________\n",
      "dense_2 (Dense)              (None, 1)                 65        \n",
      "=================================================================\n",
      "Total params: 5,880,129\n",
      "Trainable params: 5,880,129\n",
      "Non-trainable params: 0\n",
      "_________________________________________________________________\n"
     ]
    }
   ],
   "source": [
    "from keras.models import Sequential\n",
    "from keras.layers import Embedding, Flatten, Dense\n",
    "from keras.layers import Dropout\n",
    "\n",
    "model = Sequential()\n",
    "model.add(Embedding(max_words, embedding_dim, input_length=maxlen))\n",
    "model.add(Flatten())\n",
    "model.add(Dense(64, activation='sigmoid'))\n",
    "model.add(Dropout(0.3))\n",
    "#model.add(Dense(16, activation='sigmoid'))\n",
    "model.add(Dense(1, activation='sigmoid'))\n",
    "model.summary()"
   ]
  },
  {
   "cell_type": "code",
   "execution_count": 14,
   "metadata": {},
   "outputs": [],
   "source": [
    "model.layers[0].set_weights([embedding_matrix])\n",
    "model.layers[0].trainable = False"
   ]
  },
  {
   "cell_type": "code",
   "execution_count": 15,
   "metadata": {},
   "outputs": [
    {
     "name": "stdout",
     "output_type": "stream",
     "text": [
      "WARNING:tensorflow:From C:\\Users\\karun\\Anaconda3\\lib\\site-packages\\tensorflow\\python\\ops\\nn_impl.py:180: add_dispatch_support.<locals>.wrapper (from tensorflow.python.ops.array_ops) is deprecated and will be removed in a future version.\n",
      "Instructions for updating:\n",
      "Use tf.where in 2.0, which has the same broadcast rule as np.where\n",
      "WARNING:tensorflow:From C:\\Users\\karun\\Anaconda3\\lib\\site-packages\\keras\\backend\\tensorflow_backend.py:422: The name tf.global_variables is deprecated. Please use tf.compat.v1.global_variables instead.\n",
      "\n",
      "Train on 10000 samples, validate on 2000 samples\n",
      "Epoch 1/10\n",
      "10000/10000 [==============================] - 9s 891us/step - loss: 0.7026 - acc: 0.6068 - val_loss: 0.5628 - val_acc: 0.7210\n",
      "Epoch 2/10\n",
      "10000/10000 [==============================] - 9s 870us/step - loss: 0.4706 - acc: 0.7824 - val_loss: 0.6007 - val_acc: 0.6840\n",
      "Epoch 3/10\n",
      "10000/10000 [==============================] - 9s 873us/step - loss: 0.3190 - acc: 0.8717 - val_loss: 0.5428 - val_acc: 0.7480\n",
      "Epoch 4/10\n",
      "10000/10000 [==============================] - 9s 893us/step - loss: 0.2122 - acc: 0.9176 - val_loss: 0.5827 - val_acc: 0.7410\n",
      "Epoch 5/10\n",
      "10000/10000 [==============================] - 10s 967us/step - loss: 0.1450 - acc: 0.9503 - val_loss: 0.6626 - val_acc: 0.7345\n",
      "Epoch 6/10\n",
      "10000/10000 [==============================] - 9s 921us/step - loss: 0.1003 - acc: 0.9664 - val_loss: 0.7205 - val_acc: 0.7405\n",
      "Epoch 7/10\n",
      "10000/10000 [==============================] - 9s 914us/step - loss: 0.0643 - acc: 0.9814 - val_loss: 0.8357 - val_acc: 0.7235\n",
      "Epoch 8/10\n",
      "10000/10000 [==============================] - 9s 900us/step - loss: 0.0481 - acc: 0.9879 - val_loss: 1.0120 - val_acc: 0.7090\n",
      "Epoch 9/10\n",
      "10000/10000 [==============================] - 9s 902us/step - loss: 0.0339 - acc: 0.9918 - val_loss: 1.0209 - val_acc: 0.7320\n",
      "Epoch 10/10\n",
      "10000/10000 [==============================] - 9s 935us/step - loss: 0.0280 - acc: 0.9931 - val_loss: 1.0089 - val_acc: 0.7360\n"
     ]
    }
   ],
   "source": [
    "from keras.optimizers import RMSprop\n",
    "\n",
    "model.compile(optimizer=RMSprop(learning_rate=0.001, rho=0.95), loss='binary_crossentropy', metrics=['acc'])\n",
    "# model.compile(optimizer='RMSprop', loss='binary_crossentropy', metrics=['acc'])\n",
    "history = model.fit(x_train, y_train, epochs=10, batch_size=32, validation_data=(x_val, y_val))"
   ]
  },
  {
   "cell_type": "code",
   "execution_count": 30,
   "metadata": {},
   "outputs": [
    {
     "name": "stdout",
     "output_type": "stream",
     "text": [
      "Train on 10000 samples, validate on 2000 samples\n",
      "Epoch 1/10\n",
      "10000/10000 [==============================] - 96s 10ms/step - loss: 0.6542 - acc: 0.6423 - val_loss: 1.3273 - val_acc: 0.5820\n",
      "Epoch 2/10\n",
      "10000/10000 [==============================] - 98s 10ms/step - loss: 0.5940 - acc: 0.7003 - val_loss: 0.6178 - val_acc: 0.6580\n",
      "Epoch 3/10\n",
      "10000/10000 [==============================] - 99s 10ms/step - loss: 0.5007 - acc: 0.7586 - val_loss: 0.6402 - val_acc: 0.7065\n",
      "Epoch 4/10\n",
      "10000/10000 [==============================] - 98s 10ms/step - loss: 0.4425 - acc: 0.7993 - val_loss: 0.6149 - val_acc: 0.6730\n",
      "Epoch 5/10\n",
      "10000/10000 [==============================] - 99s 10ms/step - loss: 0.3964 - acc: 0.8257 - val_loss: 0.5172 - val_acc: 0.7710\n",
      "Epoch 6/10\n",
      "10000/10000 [==============================] - 99s 10ms/step - loss: 0.3547 - acc: 0.8465 - val_loss: 0.3599 - val_acc: 0.8460\n",
      "Epoch 7/10\n",
      "10000/10000 [==============================] - 104s 10ms/step - loss: 0.3226 - acc: 0.8627 - val_loss: 0.7456 - val_acc: 0.7905\n",
      "Epoch 8/10\n",
      "10000/10000 [==============================] - 109s 11ms/step - loss: 0.2914 - acc: 0.8760 - val_loss: 0.3901 - val_acc: 0.8275\n",
      "Epoch 9/10\n",
      "10000/10000 [==============================] - 108s 11ms/step - loss: 0.2497 - acc: 0.8985 - val_loss: 0.4864 - val_acc: 0.7965\n",
      "Epoch 10/10\n",
      "10000/10000 [==============================] - 108s 11ms/step - loss: 0.2174 - acc: 0.9098 - val_loss: 0.5120 - val_acc: 0.8270\n"
     ]
    }
   ],
   "source": [
    "model = Sequential()\n",
    "model.add(Embedding(max_words, embedding_dim, input_length=maxlen))\n",
    "model.add(LSTM(embedding_dim))\n",
    "model.add(Dense(1, activation='sigmoid'))\n",
    "\n",
    "\n",
    "model.layers[0].set_weights([embedding_matrix])\n",
    "model.layers[0].trainable = False\n",
    "\n",
    "model.compile(optimizer=RMSprop(learning_rate=0.001, rho=0.9), loss='binary_crossentropy', metrics=['acc'])\n",
    "history = model.fit(x_train, y_train, epochs=10, batch_size=128, validation_data=(x_val, y_val))"
   ]
  },
  {
   "cell_type": "code",
   "execution_count": 16,
   "metadata": {},
   "outputs": [
    {
     "name": "stdout",
     "output_type": "stream",
     "text": [
      "Train on 10000 samples, validate on 2000 samples\n",
      "Epoch 1/10\n",
      "10000/10000 [==============================] - 9s 915us/step - loss: 0.0106 - acc: 0.9983 - val_loss: 1.1696 - val_acc: 0.7400\n",
      "Epoch 2/10\n",
      "10000/10000 [==============================] - 9s 884us/step - loss: 0.0094 - acc: 0.9982 - val_loss: 1.1691 - val_acc: 0.7330\n",
      "Epoch 3/10\n",
      "10000/10000 [==============================] - 9s 902us/step - loss: 0.0078 - acc: 0.9985 - val_loss: 1.1969 - val_acc: 0.7360\n",
      "Epoch 4/10\n",
      "10000/10000 [==============================] - 9s 884us/step - loss: 0.0067 - acc: 0.9986 - val_loss: 1.2130 - val_acc: 0.7330\n",
      "Epoch 5/10\n",
      "10000/10000 [==============================] - 9s 885us/step - loss: 0.0063 - acc: 0.9987 - val_loss: 1.2269 - val_acc: 0.7315\n",
      "Epoch 6/10\n",
      "10000/10000 [==============================] - 9s 885us/step - loss: 0.0057 - acc: 0.9989 - val_loss: 1.2572 - val_acc: 0.7370\n",
      "Epoch 7/10\n",
      "10000/10000 [==============================] - 9s 893us/step - loss: 0.0048 - acc: 0.9991 - val_loss: 1.2747 - val_acc: 0.7315\n",
      "Epoch 8/10\n",
      "10000/10000 [==============================] - 10s 993us/step - loss: 0.0043 - acc: 0.9991 - val_loss: 1.3022 - val_acc: 0.7360\n",
      "Epoch 9/10\n",
      "10000/10000 [==============================] - 9s 926us/step - loss: 0.0045 - acc: 0.9988 - val_loss: 1.3051 - val_acc: 0.7320\n",
      "Epoch 10/10\n",
      "10000/10000 [==============================] - 9s 914us/step - loss: 0.0037 - acc: 0.9993 - val_loss: 1.3383 - val_acc: 0.7330\n"
     ]
    }
   ],
   "source": [
    "model.compile(optimizer=RMSprop(learning_rate=0.001, rho=0.95), loss='binary_crossentropy', metrics=['acc'])\n",
    "# model.compile(optimizer='RMSprop', loss='binary_crossentropy', metrics=['acc'])\n",
    "history = model.fit(x_train, y_train, epochs=10, batch_size=32, validation_data=(x_val, y_val))"
   ]
  },
  {
   "cell_type": "code",
   "execution_count": 17,
   "metadata": {},
   "outputs": [
    {
     "name": "stdout",
     "output_type": "stream",
     "text": [
      "Train on 10000 samples, validate on 2000 samples\n",
      "Epoch 1/10\n",
      "10000/10000 [==============================] - 9s 903us/step - loss: 0.0031 - acc: 0.9991 - val_loss: 1.3431 - val_acc: 0.7360\n",
      "Epoch 2/10\n",
      "10000/10000 [==============================] - 9s 886us/step - loss: 0.0037 - acc: 0.9989 - val_loss: 1.3421 - val_acc: 0.7365\n",
      "Epoch 3/10\n",
      "10000/10000 [==============================] - 9s 887us/step - loss: 0.0031 - acc: 0.9994 - val_loss: 1.3435 - val_acc: 0.7370\n",
      "Epoch 4/10\n",
      "10000/10000 [==============================] - 9s 885us/step - loss: 0.0032 - acc: 0.9993 - val_loss: 1.3434 - val_acc: 0.7345\n",
      "Epoch 5/10\n",
      "10000/10000 [==============================] - 9s 891us/step - loss: 0.0032 - acc: 0.9993 - val_loss: 1.3480 - val_acc: 0.7360\n",
      "Epoch 6/10\n",
      "10000/10000 [==============================] - 9s 905us/step - loss: 0.0027 - acc: 0.9993 - val_loss: 1.3519 - val_acc: 0.7370\n",
      "Epoch 7/10\n",
      "10000/10000 [==============================] - 9s 890us/step - loss: 0.0031 - acc: 0.9994 - val_loss: 1.3527 - val_acc: 0.7360\n",
      "Epoch 8/10\n",
      "10000/10000 [==============================] - 9s 879us/step - loss: 0.0029 - acc: 0.9993 - val_loss: 1.3549 - val_acc: 0.7365\n",
      "Epoch 9/10\n",
      "10000/10000 [==============================] - 9s 885us/step - loss: 0.0035 - acc: 0.9987 - val_loss: 1.3560 - val_acc: 0.7365\n",
      "Epoch 10/10\n",
      "10000/10000 [==============================] - 9s 883us/step - loss: 0.0027 - acc: 0.9991 - val_loss: 1.3626 - val_acc: 0.7360\n"
     ]
    }
   ],
   "source": [
    "model.compile(optimizer=RMSprop(learning_rate=0.00001, rho=0.95), loss='binary_crossentropy', metrics=['acc'])\n",
    "# model.compile(optimizer='RMSprop', loss='binary_crossentropy', metrics=['acc'])\n",
    "history = model.fit(x_train, y_train, epochs=10, batch_size=32, validation_data=(x_val, y_val))\n",
    "\n",
    "model.save_weights('pre_trained_glove_model.h5')"
   ]
  },
  {
   "cell_type": "code",
   "execution_count": 18,
   "metadata": {},
   "outputs": [
    {
     "data": {
      "image/png": "[encoded data removed]",
      "text/plain": [
       "<Figure size 432x288 with 1 Axes>"
      ]
     },
     "metadata": {
      "needs_background": "light"
     },
     "output_type": "display_data"
    },
    {
     "data": {
      "image/png": "[encoded data removed]",
      "text/plain": [
       "<Figure size 432x288 with 1 Axes>"
      ]
     },
     "metadata": {
      "needs_background": "light"
     },
     "output_type": "display_data"
    }
   ],
   "source": [
    "import matplotlib.pyplot as plt\n",
    "acc = history.history['acc']\n",
    "val_acc = history.history['val_acc']\n",
    "loss = history.history['loss']\n",
    "val_loss = history.history['val_loss']\n",
    "epochs = range(1, len(acc) + 1)\n",
    "\n",
    "plt.plot(epochs, acc, 'g', label='Training acc')\n",
    "plt.plot(epochs, val_acc, 'b', label='Validation acc')\n",
    "plt.title('Training and validation accuracy')\n",
    "plt.legend()\n",
    "plt.figure()\n",
    "\n",
    "plt.plot(epochs, loss, 'g', label='Training loss')\n",
    "plt.plot(epochs, val_loss, 'b', label='Validation loss')\n",
    "plt.title('Training and validation loss')\n",
    "plt.legend()\n",
    "plt.show()"
   ]
  },
  {
   "cell_type": "code",
   "execution_count": 19,
   "metadata": {},
   "outputs": [
    {
     "name": "stdout",
     "output_type": "stream",
     "text": [
      "4000/4000 [==============================] - 1s 150us/step\n",
      "[1.3844786918163299, 0.7462499737739563]\n"
     ]
    }
   ],
   "source": [
    "results = model.evaluate(x_test, y_test)\n",
    "print(results)"
   ]
  },
  {
   "cell_type": "markdown",
   "metadata": {},
   "source": [
    "<b> Training without PreTrained Embedding </b>"
   ]
  },
  {
   "cell_type": "code",
   "execution_count": 20,
   "metadata": {},
   "outputs": [
    {
     "name": "stdout",
     "output_type": "stream",
     "text": [
      "Model: \"sequential_2\"\n",
      "_________________________________________________________________\n",
      "Layer (type)                 Output Shape              Param #   \n",
      "=================================================================\n",
      "embedding_2 (Embedding)      (None, 150, 300)          3000000   \n",
      "_________________________________________________________________\n",
      "flatten_2 (Flatten)          (None, 45000)             0         \n",
      "_________________________________________________________________\n",
      "dense_3 (Dense)              (None, 32)                1440032   \n",
      "_________________________________________________________________\n",
      "dense_4 (Dense)              (None, 1)                 33        \n",
      "=================================================================\n",
      "Total params: 4,440,065\n",
      "Trainable params: 4,440,065\n",
      "Non-trainable params: 0\n",
      "_________________________________________________________________\n",
      "Train on 10000 samples, validate on 2000 samples\n",
      "Epoch 1/10\n",
      "10000/10000 [==============================] - 15s 2ms/step - loss: 0.4810 - acc: 0.7485 - val_loss: 0.3375 - val_acc: 0.8565\n",
      "Epoch 2/10\n",
      "10000/10000 [==============================] - 15s 1ms/step - loss: 0.0572 - acc: 0.9802 - val_loss: 0.5120 - val_acc: 0.8145\n",
      "Epoch 3/10\n",
      "10000/10000 [==============================] - 14s 1ms/step - loss: 0.0035 - acc: 0.9990 - val_loss: 0.6462 - val_acc: 0.8165\n",
      "Epoch 4/10\n",
      "10000/10000 [==============================] - 14s 1ms/step - loss: 1.1418e-04 - acc: 1.0000 - val_loss: 0.8642 - val_acc: 0.8130\n",
      "Epoch 5/10\n",
      "10000/10000 [==============================] - 14s 1ms/step - loss: 1.4856e-06 - acc: 1.0000 - val_loss: 0.9445 - val_acc: 0.8200\n",
      "Epoch 6/10\n",
      "10000/10000 [==============================] - 14s 1ms/step - loss: 2.4852e-08 - acc: 1.0000 - val_loss: 1.0035 - val_acc: 0.8230\n",
      "Epoch 7/10\n",
      "10000/10000 [==============================] - 14s 1ms/step - loss: 5.1553e-09 - acc: 1.0000 - val_loss: 1.0357 - val_acc: 0.8205\n",
      "Epoch 8/10\n",
      "10000/10000 [==============================] - 14s 1ms/step - loss: 2.9266e-09 - acc: 1.0000 - val_loss: 1.0509 - val_acc: 0.8205\n",
      "Epoch 9/10\n",
      "10000/10000 [==============================] - 15s 2ms/step - loss: 2.2570e-09 - acc: 1.0000 - val_loss: 1.0643 - val_acc: 0.8220\n",
      "Epoch 10/10\n",
      "10000/10000 [==============================] - 15s 1ms/step - loss: 1.9373e-09 - acc: 1.0000 - val_loss: 1.0742 - val_acc: 0.8215\n"
     ]
    }
   ],
   "source": [
    "from keras.models import Sequential\n",
    "from keras.layers import Embedding, Flatten, Dense\n",
    "model = Sequential()\n",
    "model.add(Embedding(max_words, embedding_dim, input_length=maxlen))\n",
    "model.add(Flatten())\n",
    "model.add(Dense(32, activation='relu'))\n",
    "model.add(Dense(1, activation='sigmoid'))\n",
    "model.summary()\n",
    "model.compile(optimizer='rmsprop',\n",
    "loss='binary_crossentropy',\n",
    "metrics=['acc'])\n",
    "history = model.fit(x_train, y_train,epochs=10,batch_size=32,validation_data=(x_val, y_val))"
   ]
  },
  {
   "cell_type": "code",
   "execution_count": 21,
   "metadata": {},
   "outputs": [
    {
     "data": {
      "image/png": "[encoded data removed]",
      "text/plain": [
       "<Figure size 432x288 with 1 Axes>"
      ]
     },
     "metadata": {
      "needs_background": "light"
     },
     "output_type": "display_data"
    },
    {
     "data": {
      "image/png": "[encoded data removed]",
      "text/plain": [
       "<Figure size 432x288 with 1 Axes>"
      ]
     },
     "metadata": {
      "needs_background": "light"
     },
     "output_type": "display_data"
    }
   ],
   "source": [
    "acc = history.history['acc']\n",
    "val_acc = history.history['val_acc']\n",
    "loss = history.history['loss']\n",
    "val_loss = history.history['val_loss']\n",
    "epochs = range(1, len(acc) + 1)\n",
    "\n",
    "plt.plot(epochs, acc, 'g', label='Training acc')\n",
    "plt.plot(epochs, val_acc, 'b', label='Validation acc')\n",
    "plt.title('Training and validation accuracy- No pretrained embeddings')\n",
    "plt.legend()\n",
    "plt.figure()\n",
    "\n",
    "plt.plot(epochs, loss, 'g', label='Training loss')\n",
    "plt.plot(epochs, val_loss, 'b', label='Validation loss')\n",
    "plt.title('Training and validation loss- No pretrained embeddings')\n",
    "plt.legend()\n",
    "plt.show()"
   ]
  },
  {
   "cell_type": "code",
   "execution_count": 22,
   "metadata": {},
   "outputs": [
    {
     "name": "stdout",
     "output_type": "stream",
     "text": [
      "4000/4000 [==============================] - 0s 98us/step\n",
      "[1.1432013804912566, 0.8159999847412109]\n"
     ]
    }
   ],
   "source": [
    "results = model.evaluate(x_test, y_test)\n",
    "print(results)"
   ]
  },
  {
   "cell_type": "code",
   "execution_count": 25,
   "metadata": {},
   "outputs": [
    {
     "name": "stdout",
     "output_type": "stream",
     "text": [
      "Train on 10000 samples, validate on 2000 samples\n",
      "Epoch 1/10\n",
      "10000/10000 [==============================] - 8s 763us/step - loss: 0.5929 - acc: 0.6866 - val_loss: 0.4969 - val_acc: 0.7635\n",
      "Epoch 2/10\n",
      "10000/10000 [==============================] - 9s 867us/step - loss: 0.3663 - acc: 0.8558 - val_loss: 0.4105 - val_acc: 0.8420\n",
      "Epoch 3/10\n",
      "10000/10000 [==============================] - 9s 876us/step - loss: 0.2717 - acc: 0.8966 - val_loss: 0.3628 - val_acc: 0.8520\n",
      "Epoch 4/10\n",
      "10000/10000 [==============================] - 9s 887us/step - loss: 0.2083 - acc: 0.9242 - val_loss: 0.4258 - val_acc: 0.8100\n",
      "Epoch 5/10\n",
      "10000/10000 [==============================] - 9s 880us/step - loss: 0.1742 - acc: 0.9375 - val_loss: 0.3246 - val_acc: 0.8705\n",
      "Epoch 6/10\n",
      "10000/10000 [==============================] - 9s 877us/step - loss: 0.1390 - acc: 0.9519 - val_loss: 0.4184 - val_acc: 0.8555\n",
      "Epoch 7/10\n",
      "10000/10000 [==============================] - 9s 912us/step - loss: 0.1179 - acc: 0.9614 - val_loss: 0.3678 - val_acc: 0.8490\n",
      "Epoch 8/10\n",
      "10000/10000 [==============================] - 9s 884us/step - loss: 0.0985 - acc: 0.9678 - val_loss: 0.5834 - val_acc: 0.8235\n",
      "Epoch 9/10\n",
      "10000/10000 [==============================] - 9s 896us/step - loss: 0.0808 - acc: 0.9732 - val_loss: 0.5923 - val_acc: 0.8410\n",
      "Epoch 10/10\n",
      "10000/10000 [==============================] - 9s 892us/step - loss: 0.0703 - acc: 0.9785 - val_loss: 0.4935 - val_acc: 0.8520\n"
     ]
    }
   ],
   "source": [
    "from keras.layers import LSTM\n",
    "\n",
    "model = Sequential()\n",
    "model.add(Embedding(max_words, 32))\n",
    "model.add(LSTM(32))\n",
    "model.add(Dense(1, activation='sigmoid'))\n",
    "model.compile(optimizer=RMSprop(learning_rate=0.001, rho=0.9), loss='binary_crossentropy', metrics=['acc'])\n",
    "\n",
    "history = model.fit(x_train, y_train, epochs=10, batch_size=128, validation_data=(x_val, y_val))"
   ]
  },
  {
   "cell_type": "code",
   "execution_count": 27,
   "metadata": {},
   "outputs": [
    {
     "name": "stdout",
     "output_type": "stream",
     "text": [
      "Train on 10000 samples, validate on 2000 samples\n",
      "Epoch 1/10\n",
      "10000/10000 [==============================] - 8s 769us/step - loss: 0.0211 - acc: 0.9956 - val_loss: 0.5509 - val_acc: 0.8495\n",
      "Epoch 2/10\n",
      "10000/10000 [==============================] - 7s 727us/step - loss: 0.0204 - acc: 0.9961 - val_loss: 0.6027 - val_acc: 0.8465\n",
      "Epoch 3/10\n",
      " 9600/10000 [===========================>..] - ETA: 0s - loss: 0.0199 - acc: 0.9960"
     ]
    },
    {
     "ename": "KeyboardInterrupt",
     "evalue": "",
     "output_type": "error",
     "traceback": [
      "\u001b[1;31m---------------------------------------------------------------------------\u001b[0m",
      "\u001b[1;31mKeyboardInterrupt\u001b[0m                         Traceback (most recent call last)",
      "\u001b[1;32m<ipython-input-27-ec32d6ba2e2b>\u001b[0m in \u001b[0;36m<module>\u001b[1;34m\u001b[0m\n\u001b[0;32m      1\u001b[0m \u001b[0mmodel\u001b[0m\u001b[1;33m.\u001b[0m\u001b[0mcompile\u001b[0m\u001b[1;33m(\u001b[0m\u001b[0moptimizer\u001b[0m\u001b[1;33m=\u001b[0m\u001b[0mRMSprop\u001b[0m\u001b[1;33m(\u001b[0m\u001b[0mlearning_rate\u001b[0m\u001b[1;33m=\u001b[0m\u001b[1;36m0.0001\u001b[0m\u001b[1;33m,\u001b[0m \u001b[0mrho\u001b[0m\u001b[1;33m=\u001b[0m\u001b[1;36m0.80\u001b[0m\u001b[1;33m)\u001b[0m\u001b[1;33m,\u001b[0m \u001b[0mloss\u001b[0m\u001b[1;33m=\u001b[0m\u001b[1;34m'binary_crossentropy'\u001b[0m\u001b[1;33m,\u001b[0m \u001b[0mmetrics\u001b[0m\u001b[1;33m=\u001b[0m\u001b[1;33m[\u001b[0m\u001b[1;34m'acc'\u001b[0m\u001b[1;33m]\u001b[0m\u001b[1;33m)\u001b[0m\u001b[1;33m\u001b[0m\u001b[1;33m\u001b[0m\u001b[0m\n\u001b[0;32m      2\u001b[0m \u001b[1;33m\u001b[0m\u001b[0m\n\u001b[1;32m----> 3\u001b[1;33m \u001b[0mhistory\u001b[0m \u001b[1;33m=\u001b[0m \u001b[0mmodel\u001b[0m\u001b[1;33m.\u001b[0m\u001b[0mfit\u001b[0m\u001b[1;33m(\u001b[0m\u001b[0mx_train\u001b[0m\u001b[1;33m,\u001b[0m \u001b[0my_train\u001b[0m\u001b[1;33m,\u001b[0m \u001b[0mepochs\u001b[0m\u001b[1;33m=\u001b[0m\u001b[1;36m10\u001b[0m\u001b[1;33m,\u001b[0m \u001b[0mbatch_size\u001b[0m\u001b[1;33m=\u001b[0m\u001b[1;36m128\u001b[0m\u001b[1;33m,\u001b[0m \u001b[0mvalidation_data\u001b[0m\u001b[1;33m=\u001b[0m\u001b[1;33m(\u001b[0m\u001b[0mx_val\u001b[0m\u001b[1;33m,\u001b[0m \u001b[0my_val\u001b[0m\u001b[1;33m)\u001b[0m\u001b[1;33m)\u001b[0m\u001b[1;33m\u001b[0m\u001b[1;33m\u001b[0m\u001b[0m\n\u001b[0m",
      "\u001b[1;32m~\\Anaconda3\\lib\\site-packages\\keras\\engine\\training.py\u001b[0m in \u001b[0;36mfit\u001b[1;34m(self, x, y, batch_size, epochs, verbose, callbacks, validation_split, validation_data, shuffle, class_weight, sample_weight, initial_epoch, steps_per_epoch, validation_steps, validation_freq, max_queue_size, workers, use_multiprocessing, **kwargs)\u001b[0m\n\u001b[0;32m   1237\u001b[0m                                         \u001b[0msteps_per_epoch\u001b[0m\u001b[1;33m=\u001b[0m\u001b[0msteps_per_epoch\u001b[0m\u001b[1;33m,\u001b[0m\u001b[1;33m\u001b[0m\u001b[1;33m\u001b[0m\u001b[0m\n\u001b[0;32m   1238\u001b[0m                                         \u001b[0mvalidation_steps\u001b[0m\u001b[1;33m=\u001b[0m\u001b[0mvalidation_steps\u001b[0m\u001b[1;33m,\u001b[0m\u001b[1;33m\u001b[0m\u001b[1;33m\u001b[0m\u001b[0m\n\u001b[1;32m-> 1239\u001b[1;33m                                         validation_freq=validation_freq)\n\u001b[0m\u001b[0;32m   1240\u001b[0m \u001b[1;33m\u001b[0m\u001b[0m\n\u001b[0;32m   1241\u001b[0m     def evaluate(self,\n",
      "\u001b[1;32m~\\Anaconda3\\lib\\site-packages\\keras\\engine\\training_arrays.py\u001b[0m in \u001b[0;36mfit_loop\u001b[1;34m(model, fit_function, fit_inputs, out_labels, batch_size, epochs, verbose, callbacks, val_function, val_inputs, shuffle, initial_epoch, steps_per_epoch, validation_steps, validation_freq)\u001b[0m\n\u001b[0;32m    194\u001b[0m                     \u001b[0mins_batch\u001b[0m\u001b[1;33m[\u001b[0m\u001b[0mi\u001b[0m\u001b[1;33m]\u001b[0m \u001b[1;33m=\u001b[0m \u001b[0mins_batch\u001b[0m\u001b[1;33m[\u001b[0m\u001b[0mi\u001b[0m\u001b[1;33m]\u001b[0m\u001b[1;33m.\u001b[0m\u001b[0mtoarray\u001b[0m\u001b[1;33m(\u001b[0m\u001b[1;33m)\u001b[0m\u001b[1;33m\u001b[0m\u001b[1;33m\u001b[0m\u001b[0m\n\u001b[0;32m    195\u001b[0m \u001b[1;33m\u001b[0m\u001b[0m\n\u001b[1;32m--> 196\u001b[1;33m                 \u001b[0mouts\u001b[0m \u001b[1;33m=\u001b[0m \u001b[0mfit_function\u001b[0m\u001b[1;33m(\u001b[0m\u001b[0mins_batch\u001b[0m\u001b[1;33m)\u001b[0m\u001b[1;33m\u001b[0m\u001b[1;33m\u001b[0m\u001b[0m\n\u001b[0m\u001b[0;32m    197\u001b[0m                 \u001b[0mouts\u001b[0m \u001b[1;33m=\u001b[0m \u001b[0mto_list\u001b[0m\u001b[1;33m(\u001b[0m\u001b[0mouts\u001b[0m\u001b[1;33m)\u001b[0m\u001b[1;33m\u001b[0m\u001b[1;33m\u001b[0m\u001b[0m\n\u001b[0;32m    198\u001b[0m                 \u001b[1;32mfor\u001b[0m \u001b[0ml\u001b[0m\u001b[1;33m,\u001b[0m \u001b[0mo\u001b[0m \u001b[1;32min\u001b[0m \u001b[0mzip\u001b[0m\u001b[1;33m(\u001b[0m\u001b[0mout_labels\u001b[0m\u001b[1;33m,\u001b[0m \u001b[0mouts\u001b[0m\u001b[1;33m)\u001b[0m\u001b[1;33m:\u001b[0m\u001b[1;33m\u001b[0m\u001b[1;33m\u001b[0m\u001b[0m\n",
      "\u001b[1;32m~\\Anaconda3\\lib\\site-packages\\tensorflow\\python\\keras\\backend.py\u001b[0m in \u001b[0;36m__call__\u001b[1;34m(self, inputs)\u001b[0m\n\u001b[0;32m   3290\u001b[0m \u001b[1;33m\u001b[0m\u001b[0m\n\u001b[0;32m   3291\u001b[0m     fetched = self._callable_fn(*array_vals,\n\u001b[1;32m-> 3292\u001b[1;33m                                 run_metadata=self.run_metadata)\n\u001b[0m\u001b[0;32m   3293\u001b[0m     \u001b[0mself\u001b[0m\u001b[1;33m.\u001b[0m\u001b[0m_call_fetch_callbacks\u001b[0m\u001b[1;33m(\u001b[0m\u001b[0mfetched\u001b[0m\u001b[1;33m[\u001b[0m\u001b[1;33m-\u001b[0m\u001b[0mlen\u001b[0m\u001b[1;33m(\u001b[0m\u001b[0mself\u001b[0m\u001b[1;33m.\u001b[0m\u001b[0m_fetches\u001b[0m\u001b[1;33m)\u001b[0m\u001b[1;33m:\u001b[0m\u001b[1;33m]\u001b[0m\u001b[1;33m)\u001b[0m\u001b[1;33m\u001b[0m\u001b[1;33m\u001b[0m\u001b[0m\n\u001b[0;32m   3294\u001b[0m     output_structure = nest.pack_sequence_as(\n",
      "\u001b[1;32m~\\Anaconda3\\lib\\site-packages\\tensorflow\\python\\client\\session.py\u001b[0m in \u001b[0;36m__call__\u001b[1;34m(self, *args, **kwargs)\u001b[0m\n\u001b[0;32m   1456\u001b[0m         ret = tf_session.TF_SessionRunCallable(self._session._session,\n\u001b[0;32m   1457\u001b[0m                                                \u001b[0mself\u001b[0m\u001b[1;33m.\u001b[0m\u001b[0m_handle\u001b[0m\u001b[1;33m,\u001b[0m \u001b[0margs\u001b[0m\u001b[1;33m,\u001b[0m\u001b[1;33m\u001b[0m\u001b[1;33m\u001b[0m\u001b[0m\n\u001b[1;32m-> 1458\u001b[1;33m                                                run_metadata_ptr)\n\u001b[0m\u001b[0;32m   1459\u001b[0m         \u001b[1;32mif\u001b[0m \u001b[0mrun_metadata\u001b[0m\u001b[1;33m:\u001b[0m\u001b[1;33m\u001b[0m\u001b[1;33m\u001b[0m\u001b[0m\n\u001b[0;32m   1460\u001b[0m           \u001b[0mproto_data\u001b[0m \u001b[1;33m=\u001b[0m \u001b[0mtf_session\u001b[0m\u001b[1;33m.\u001b[0m\u001b[0mTF_GetBuffer\u001b[0m\u001b[1;33m(\u001b[0m\u001b[0mrun_metadata_ptr\u001b[0m\u001b[1;33m)\u001b[0m\u001b[1;33m\u001b[0m\u001b[1;33m\u001b[0m\u001b[0m\n",
      "\u001b[1;31mKeyboardInterrupt\u001b[0m: "
     ]
    }
   ],
   "source": [
    "model.compile(optimizer=RMSprop(learning_rate=0.0001, rho=0.80), loss='binary_crossentropy', metrics=['acc'])\n",
    "\n",
    "history = model.fit(x_train, y_train, epochs=10, batch_size=128, validation_data=(x_val, y_val))"
   ]
  },
  {
   "cell_type": "code",
   "execution_count": null,
   "metadata": {},
   "outputs": [],
   "source": []
  }
 ],
 "metadata": {
  "kernelspec": {
   "display_name": "Python 3",
   "language": "python",
   "name": "python3"
  },
  "language_info": {
   "codemirror_mode": {
    "name": "ipython",
    "version": 3
   },
   "file_extension": ".py",
   "mimetype": "text/x-python",
   "name": "python",
   "nbconvert_exporter": "python",
   "pygments_lexer": "ipython3",
   "version": "3.6.10"
  }
 },
 "nbformat": 4,
 "nbformat_minor": 4
}
