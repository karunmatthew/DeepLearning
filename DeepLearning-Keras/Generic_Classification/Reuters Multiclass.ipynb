{
 "cells": [
  {
   "cell_type": "code",
   "execution_count": 4,
   "metadata": {},
   "outputs": [
    {
     "name": "stderr",
     "output_type": "stream",
     "text": [
      "Using TensorFlow backend.\n",
      "C:\\Users\\karun\\Anaconda3\\lib\\site-packages\\tensorflow\\python\\framework\\dtypes.py:516: FutureWarning: Passing (type, 1) or '1type' as a synonym of type is deprecated; in a future version of numpy, it will be understood as (type, (1,)) / '(1,)type'.\n",
      "  _np_qint8 = np.dtype([(\"qint8\", np.int8, 1)])\n",
      "C:\\Users\\karun\\Anaconda3\\lib\\site-packages\\tensorflow\\python\\framework\\dtypes.py:517: FutureWarning: Passing (type, 1) or '1type' as a synonym of type is deprecated; in a future version of numpy, it will be understood as (type, (1,)) / '(1,)type'.\n",
      "  _np_quint8 = np.dtype([(\"quint8\", np.uint8, 1)])\n",
      "C:\\Users\\karun\\Anaconda3\\lib\\site-packages\\tensorflow\\python\\framework\\dtypes.py:518: FutureWarning: Passing (type, 1) or '1type' as a synonym of type is deprecated; in a future version of numpy, it will be understood as (type, (1,)) / '(1,)type'.\n",
      "  _np_qint16 = np.dtype([(\"qint16\", np.int16, 1)])\n",
      "C:\\Users\\karun\\Anaconda3\\lib\\site-packages\\tensorflow\\python\\framework\\dtypes.py:519: FutureWarning: Passing (type, 1) or '1type' as a synonym of type is deprecated; in a future version of numpy, it will be understood as (type, (1,)) / '(1,)type'.\n",
      "  _np_quint16 = np.dtype([(\"quint16\", np.uint16, 1)])\n",
      "C:\\Users\\karun\\Anaconda3\\lib\\site-packages\\tensorflow\\python\\framework\\dtypes.py:520: FutureWarning: Passing (type, 1) or '1type' as a synonym of type is deprecated; in a future version of numpy, it will be understood as (type, (1,)) / '(1,)type'.\n",
      "  _np_qint32 = np.dtype([(\"qint32\", np.int32, 1)])\n",
      "C:\\Users\\karun\\Anaconda3\\lib\\site-packages\\tensorflow\\python\\framework\\dtypes.py:525: FutureWarning: Passing (type, 1) or '1type' as a synonym of type is deprecated; in a future version of numpy, it will be understood as (type, (1,)) / '(1,)type'.\n",
      "  np_resource = np.dtype([(\"resource\", np.ubyte, 1)])\n",
      "C:\\Users\\karun\\Anaconda3\\lib\\site-packages\\tensorboard\\compat\\tensorflow_stub\\dtypes.py:541: FutureWarning: Passing (type, 1) or '1type' as a synonym of type is deprecated; in a future version of numpy, it will be understood as (type, (1,)) / '(1,)type'.\n",
      "  _np_qint8 = np.dtype([(\"qint8\", np.int8, 1)])\n",
      "C:\\Users\\karun\\Anaconda3\\lib\\site-packages\\tensorboard\\compat\\tensorflow_stub\\dtypes.py:542: FutureWarning: Passing (type, 1) or '1type' as a synonym of type is deprecated; in a future version of numpy, it will be understood as (type, (1,)) / '(1,)type'.\n",
      "  _np_quint8 = np.dtype([(\"quint8\", np.uint8, 1)])\n",
      "C:\\Users\\karun\\Anaconda3\\lib\\site-packages\\tensorboard\\compat\\tensorflow_stub\\dtypes.py:543: FutureWarning: Passing (type, 1) or '1type' as a synonym of type is deprecated; in a future version of numpy, it will be understood as (type, (1,)) / '(1,)type'.\n",
      "  _np_qint16 = np.dtype([(\"qint16\", np.int16, 1)])\n",
      "C:\\Users\\karun\\Anaconda3\\lib\\site-packages\\tensorboard\\compat\\tensorflow_stub\\dtypes.py:544: FutureWarning: Passing (type, 1) or '1type' as a synonym of type is deprecated; in a future version of numpy, it will be understood as (type, (1,)) / '(1,)type'.\n",
      "  _np_quint16 = np.dtype([(\"quint16\", np.uint16, 1)])\n",
      "C:\\Users\\karun\\Anaconda3\\lib\\site-packages\\tensorboard\\compat\\tensorflow_stub\\dtypes.py:545: FutureWarning: Passing (type, 1) or '1type' as a synonym of type is deprecated; in a future version of numpy, it will be understood as (type, (1,)) / '(1,)type'.\n",
      "  _np_qint32 = np.dtype([(\"qint32\", np.int32, 1)])\n",
      "C:\\Users\\karun\\Anaconda3\\lib\\site-packages\\tensorboard\\compat\\tensorflow_stub\\dtypes.py:550: FutureWarning: Passing (type, 1) or '1type' as a synonym of type is deprecated; in a future version of numpy, it will be understood as (type, (1,)) / '(1,)type'.\n",
      "  np_resource = np.dtype([(\"resource\", np.ubyte, 1)])\n"
     ]
    },
    {
     "name": "stdout",
     "output_type": "stream",
     "text": [
      "Downloading data from https://s3.amazonaws.com/text-datasets/reuters.npz\n",
      "2113536/2110848 [==============================] - 2s 1us/step\n"
     ]
    }
   ],
   "source": [
    "from keras.datasets import reuters\n",
    "\n",
    "(train_data, train_labels), (test_data, test_labels) = reuters.load_data(\n",
    "num_words=10000)\n",
    "\n",
    "(train_data, train_labels), (test_data, test_labels) = reuters.load_data(\n",
    "num_words=10000)"
   ]
  },
  {
   "cell_type": "code",
   "execution_count": 5,
   "metadata": {},
   "outputs": [],
   "source": [
    "import numpy as np\n",
    "\n",
    "def vectorize_sequences(sequences, dimension=10000):\n",
    "    results = np.zeros((len(sequences), dimension))\n",
    "    for i, sequence in enumerate(sequences):\n",
    "        results[i, sequence] = 1.\n",
    "    return results\n",
    "\n",
    "x_train = vectorize_sequences(train_data)\n",
    "x_test = vectorize_sequences(test_data)"
   ]
  },
  {
   "cell_type": "code",
   "execution_count": 6,
   "metadata": {},
   "outputs": [],
   "source": [
    "def to_one_hot(labels, dimension=46):\n",
    "    results = np.zeros((len(labels), dimension))\n",
    "    for i, label in enumerate(labels):\n",
    "        results[i, label] = 1.\n",
    "    return results\n",
    "\n",
    "one_hot_train_labels = to_one_hot(train_labels)\n",
    "one_hot_test_labels = to_one_hot(test_labels)"
   ]
  },
  {
   "cell_type": "code",
   "execution_count": 10,
   "metadata": {},
   "outputs": [],
   "source": [
    "from keras import models\n",
    "from keras import layers\n",
    "model = models.Sequential()\n",
    "model.add(layers.Dense(64, activation='relu', input_shape=(10000,)))\n",
    "model.add(layers.Dense(64, activation='relu'))\n",
    "model.add(layers.Dense(46, activation='softmax'))"
   ]
  },
  {
   "cell_type": "code",
   "execution_count": 11,
   "metadata": {},
   "outputs": [],
   "source": [
    "x_val = x_train[:1000]\n",
    "partial_x_train = x_train[1000:]\n",
    "y_val = one_hot_train_labels[:1000]\n",
    "partial_y_train = one_hot_train_labels[1000:]"
   ]
  },
  {
   "cell_type": "code",
   "execution_count": 14,
   "metadata": {},
   "outputs": [],
   "source": [
    "model.compile(optimizer='rmsprop', loss='categorical_crossentropy', metrics=['accuracy'])"
   ]
  },
  {
   "cell_type": "code",
   "execution_count": 15,
   "metadata": {},
   "outputs": [
    {
     "name": "stdout",
     "output_type": "stream",
     "text": [
      "WARNING:tensorflow:From C:\\Users\\karun\\Anaconda3\\lib\\site-packages\\keras\\backend\\tensorflow_backend.py:422: The name tf.global_variables is deprecated. Please use tf.compat.v1.global_variables instead.\n",
      "\n",
      "Train on 7982 samples, validate on 1000 samples\n",
      "Epoch 1/20\n",
      "7982/7982 [==============================] - 1s 106us/step - loss: 2.6859 - accuracy: 0.4967 - val_loss: 1.7392 - val_accuracy: 0.6230\n",
      "Epoch 2/20\n",
      "7982/7982 [==============================] - ETA: 0s - loss: 1.4437 - accuracy: 0.69 - 1s 73us/step - loss: 1.4430 - accuracy: 0.6989 - val_loss: 1.3073 - val_accuracy: 0.7140\n",
      "Epoch 3/20\n",
      "7982/7982 [==============================] - 1s 73us/step - loss: 1.0675 - accuracy: 0.7740 - val_loss: 1.1469 - val_accuracy: 0.7490\n",
      "Epoch 4/20\n",
      "7982/7982 [==============================] - 1s 74us/step - loss: 0.8277 - accuracy: 0.8242 - val_loss: 1.0409 - val_accuracy: 0.7850\n",
      "Epoch 5/20\n",
      "7982/7982 [==============================] - 1s 73us/step - loss: 0.6570 - accuracy: 0.8587 - val_loss: 0.9541 - val_accuracy: 0.7980\n",
      "Epoch 6/20\n",
      "7982/7982 [==============================] - ETA: 0s - loss: 0.5178 - accuracy: 0.89 - 1s 75us/step - loss: 0.5198 - accuracy: 0.8928 - val_loss: 0.9201 - val_accuracy: 0.8040\n",
      "Epoch 7/20\n",
      "7982/7982 [==============================] - ETA: 0s - loss: 0.4183 - accuracy: 0.91 - 1s 73us/step - loss: 0.4176 - accuracy: 0.9153 - val_loss: 0.9137 - val_accuracy: 0.8140\n",
      "Epoch 8/20\n",
      "7982/7982 [==============================] - 1s 75us/step - loss: 0.3396 - accuracy: 0.9272 - val_loss: 0.8667 - val_accuracy: 0.8160\n",
      "Epoch 9/20\n",
      "7982/7982 [==============================] - 1s 73us/step - loss: 0.2799 - accuracy: 0.9396 - val_loss: 0.8906 - val_accuracy: 0.8130\n",
      "Epoch 10/20\n",
      "7982/7982 [==============================] - 1s 72us/step - loss: 0.2326 - accuracy: 0.9463 - val_loss: 0.8940 - val_accuracy: 0.8140\n",
      "Epoch 11/20\n",
      "7982/7982 [==============================] - 1s 74us/step - loss: 0.2070 - accuracy: 0.9488 - val_loss: 0.9087 - val_accuracy: 0.8160\n",
      "Epoch 12/20\n",
      "7982/7982 [==============================] - 1s 73us/step - loss: 0.1800 - accuracy: 0.9526 - val_loss: 0.9131 - val_accuracy: 0.8130\n",
      "Epoch 13/20\n",
      "7982/7982 [==============================] - ETA: 0s - loss: 0.1591 - accuracy: 0.9549 ETA: 0s - loss: 0.1423 - accuracy - 1s 74us/step - loss: 0.1638 - accuracy: 0.9536 - val_loss: 0.9391 - val_accuracy: 0.8140\n",
      "Epoch 14/20\n",
      "7982/7982 [==============================] - 1s 73us/step - loss: 0.1460 - accuracy: 0.9558 - val_loss: 0.9879 - val_accuracy: 0.8000\n",
      "Epoch 15/20\n",
      "7982/7982 [==============================] - 1s 74us/step - loss: 0.1436 - accuracy: 0.9579 - val_loss: 0.9608 - val_accuracy: 0.8140\n",
      "Epoch 16/20\n",
      "7982/7982 [==============================] - 1s 77us/step - loss: 0.1327 - accuracy: 0.9565 - val_loss: 0.9985 - val_accuracy: 0.8140\n",
      "Epoch 17/20\n",
      "7982/7982 [==============================] - 1s 75us/step - loss: 0.1265 - accuracy: 0.9555 - val_loss: 1.0119 - val_accuracy: 0.8090\n",
      "Epoch 18/20\n",
      "7982/7982 [==============================] - 1s 75us/step - loss: 0.1197 - accuracy: 0.9568 - val_loss: 0.9954 - val_accuracy: 0.8090\n",
      "Epoch 19/20\n",
      "7982/7982 [==============================] - 1s 75us/step - loss: 0.1166 - accuracy: 0.9577 - val_loss: 1.1097 - val_accuracy: 0.7940\n",
      "Epoch 20/20\n",
      "7982/7982 [==============================] - 1s 76us/step - loss: 0.1170 - accuracy: 0.9559 - val_loss: 1.0668 - val_accuracy: 0.8040\n"
     ]
    }
   ],
   "source": [
    "history = model.fit(partial_x_train, partial_y_train, epochs=20, batch_size=512, validation_data=(x_val, y_val))"
   ]
  },
  {
   "cell_type": "code",
   "execution_count": 16,
   "metadata": {},
   "outputs": [
    {
     "data": {
      "image/png": "[encoded data removed]",
      "text/plain": [
       "<Figure size 432x288 with 1 Axes>"
      ]
     },
     "metadata": {
      "needs_background": "light"
     },
     "output_type": "display_data"
    }
   ],
   "source": [
    "import matplotlib.pyplot as plt\n",
    "loss = history.history['loss']\n",
    "val_loss = history.history['val_loss']\n",
    "epochs = range(1, len(loss) + 1)\n",
    "plt.plot(epochs, loss, 'bo', label='Training loss')\n",
    "plt.plot(epochs, val_loss, 'b', label='Validation loss')\n",
    "plt.title('Training and validation loss')\n",
    "plt.xlabel('Epochs')\n",
    "plt.ylabel('Loss')\n",
    "plt.legend()\n",
    "plt.show()"
   ]
  },
  {
   "cell_type": "code",
   "execution_count": 18,
   "metadata": {},
   "outputs": [
    {
     "data": {
      "image/png": "[encoded data removed]",
      "text/plain": [
       "<Figure size 432x288 with 1 Axes>"
      ]
     },
     "metadata": {
      "needs_background": "light"
     },
     "output_type": "display_data"
    }
   ],
   "source": [
    "acc = history.history['accuracy']\n",
    "val_acc = history.history['val_accuracy']\n",
    "plt.plot(epochs, acc, 'bo', label='Training acc')\n",
    "plt.plot(epochs, val_acc, 'b', label='Validation acc')\n",
    "plt.title('Training and validation accuracy')\n",
    "plt.xlabel('Epochs')\n",
    "plt.ylabel('Accuracy')\n",
    "plt.legend()\n",
    "plt.show()"
   ]
  },
  {
   "cell_type": "code",
   "execution_count": 24,
   "metadata": {},
   "outputs": [
    {
     "name": "stdout",
     "output_type": "stream",
     "text": [
      "Train on 7982 samples, validate on 1000 samples\n",
      "Epoch 1/9\n",
      "7982/7982 [==============================] - 1s 87us/step - loss: 2.4702 - accuracy: 0.5365 - val_loss: 1.6495 - val_accuracy: 0.6510\n",
      "Epoch 2/9\n",
      "7982/7982 [==============================] - 1s 73us/step - loss: 1.3643 - accuracy: 0.7172 - val_loss: 1.2727 - val_accuracy: 0.7340\n",
      "Epoch 3/9\n",
      "7982/7982 [==============================] - 1s 73us/step - loss: 1.0208 - accuracy: 0.7861 - val_loss: 1.1138 - val_accuracy: 0.7680\n",
      "Epoch 4/9\n",
      "7982/7982 [==============================] - 1s 73us/step - loss: 0.8141 - accuracy: 0.8302 - val_loss: 1.0170 - val_accuracy: 0.7900\n",
      "Epoch 5/9\n",
      "7982/7982 [==============================] - 1s 75us/step - loss: 0.6553 - accuracy: 0.8604 - val_loss: 0.9780 - val_accuracy: 0.7900\n",
      "Epoch 6/9\n",
      "7982/7982 [==============================] - 1s 76us/step - loss: 0.5302 - accuracy: 0.8886 - val_loss: 0.9191 - val_accuracy: 0.8090\n",
      "Epoch 7/9\n",
      "7982/7982 [==============================] - 1s 72us/step - loss: 0.4332 - accuracy: 0.9100 - val_loss: 0.9034 - val_accuracy: 0.8040\n",
      "Epoch 8/9\n",
      "7982/7982 [==============================] - 1s 72us/step - loss: 0.3523 - accuracy: 0.9261 - val_loss: 0.8919 - val_accuracy: 0.8150\n",
      "Epoch 9/9\n",
      "7982/7982 [==============================] - 1s 72us/step - loss: 0.2898 - accuracy: 0.9362 - val_loss: 0.9133 - val_accuracy: 0.8050\n",
      "2246/2246 [==============================] - 0s 75us/step\n"
     ]
    }
   ],
   "source": [
    "model = models.Sequential()\n",
    "model.add(layers.Dense(64, activation='relu', input_shape=(10000,)))\n",
    "model.add(layers.Dense(64, activation='relu'))\n",
    "model.add(layers.Dense(46, activation='softmax'))\n",
    "model.compile(optimizer='rmsprop',\n",
    "loss='categorical_crossentropy',\n",
    "metrics=['accuracy'])\n",
    "model.fit(partial_x_train, partial_y_train, epochs=9, batch_size=512, validation_data=(x_val, y_val))\n",
    "results = model.evaluate(x_test, one_hot_test_labels)"
   ]
  },
  {
   "cell_type": "code",
   "execution_count": 25,
   "metadata": {},
   "outputs": [
    {
     "data": {
      "text/plain": [
       "[1.0135457959434122, 0.7862867116928101]"
      ]
     },
     "execution_count": 25,
     "metadata": {},
     "output_type": "execute_result"
    }
   ],
   "source": [
    "results"
   ]
  },
  {
   "cell_type": "code",
   "execution_count": 26,
   "metadata": {},
   "outputs": [],
   "source": [
    "predictions = model.predict(x_test)"
   ]
  },
  {
   "cell_type": "code",
   "execution_count": 27,
   "metadata": {},
   "outputs": [
    {
     "data": {
      "text/plain": [
       "1.0000005"
      ]
     },
     "execution_count": 27,
     "metadata": {},
     "output_type": "execute_result"
    }
   ],
   "source": [
    "np.sum(predictions[0])"
   ]
  },
  {
   "cell_type": "code",
   "execution_count": 28,
   "metadata": {},
   "outputs": [
    {
     "data": {
      "text/plain": [
       "3"
      ]
     },
     "execution_count": 28,
     "metadata": {},
     "output_type": "execute_result"
    }
   ],
   "source": [
    "np.argmax(predictions[0])"
   ]
  },
  {
   "cell_type": "code",
   "execution_count": null,
   "metadata": {},
   "outputs": [],
   "source": []
  }
 ],
 "metadata": {
  "kernelspec": {
   "display_name": "Python 3",
   "language": "python",
   "name": "python3"
  },
  "language_info": {
   "codemirror_mode": {
    "name": "ipython",
    "version": 3
   },
   "file_extension": ".py",
   "mimetype": "text/x-python",
   "name": "python",
   "nbconvert_exporter": "python",
   "pygments_lexer": "ipython3",
   "version": "3.6.10"
  }
 },
 "nbformat": 4,
 "nbformat_minor": 4
}
